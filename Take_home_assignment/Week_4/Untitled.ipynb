{
 "cells": [
  {
   "cell_type": "code",
   "execution_count": 1,
   "id": "3f18d858",
   "metadata": {},
   "outputs": [
    {
     "name": "stdout",
     "output_type": "stream",
     "text": [
      "\"Rock, Paper or Scissors\" or exit, Please state your choice: Rock\n",
      "\"Rock, Paper or Scissors\" or exit, Please state your choice: rock\n",
      "The computer's choice is: scissors\n",
      "You win!\n",
      "\"Rock, Paper or Scissors\" or exit, Please state your choice: paper\n",
      "The computer's choice is: paper\n",
      "It's a tie!\n",
      "\"Rock, Paper or Scissors\" or exit, Please state your choice: rock\n",
      "The computer's choice is: rock\n",
      "It's a tie!\n",
      "\"Rock, Paper or Scissors\" or exit, Please state your choice: exit\n",
      "Thanks for playing! Goodbye.\n"
     ]
    }
   ],
   "source": [
    "from gamelib import *\n",
    "user_choice = user_input()\n",
    "computer__choice  = computer_choice()\n",
    "\n",
    "def play_game():\n",
    "    while True:\n",
    "        user_choice = user_input()\n",
    "        \n",
    "        if user_choice == 'exit':\n",
    "            print(\"Thanks for playing! Goodbye.\")\n",
    "            break\n",
    "        \n",
    "        computer__choice = computer_choice()\n",
    "        print(f\"The computer's choice is: {computer__choice}\")\n",
    "        \n",
    "        result = winner(user_choice, computer__choice)\n",
    "        print(result)\n",
    "\n",
    "# Start the game\n",
    "play_game()"
   ]
  },
  {
   "cell_type": "code",
   "execution_count": 2,
   "id": "905dbc36",
   "metadata": {},
   "outputs": [
    {
     "name": "stdout",
     "output_type": "stream",
     "text": [
      "Hello User!, Let us play rock, paper, scissor shoot. \n",
      "\"Rock, Paper or Scissors\" or exit, Please state your choice: rock\n",
      "\"Rock, Paper or Scissors\" or exit, Please state your choice: rock\n",
      "The computer's choice is: paper\n",
      "Computer wins!\n",
      "\"Rock, Paper or Scissors\" or exit, Please state your choice: rock\n",
      "The computer's choice is: rock\n",
      "It's a tie!\n",
      "\"Rock, Paper or Scissors\" or exit, Please state your choice: rock\n",
      "The computer's choice is: rock\n",
      "It's a tie!\n",
      "\"Rock, Paper or Scissors\" or exit, Please state your choice: rock\n",
      "The computer's choice is: scissors\n",
      "You win!\n",
      "\"Rock, Paper or Scissors\" or exit, Please state your choice: exit\n",
      "Thanks for playing! Goodbye.\n"
     ]
    }
   ],
   "source": [
    "from gamelib import *\n",
    "print('Hello User!, Let us play rock, paper, scissor shoot. ')\n",
    "user_choice = user_input()\n",
    "computer__choice  = computer_choice()\n",
    "\n",
    "def play_game():\n",
    "    while True:\n",
    "        user_choice = user_input()\n",
    "        \n",
    "        if user_choice == 'exit':\n",
    "            print(\"Thanks for playing! Goodbye.\")\n",
    "            break\n",
    "        \n",
    "        computer__choice = computer_choice()\n",
    "        print(f\"The computer's choice is: {computer__choice}\")\n",
    "        \n",
    "        result = winner(user_choice, computer__choice)\n",
    "        print(result)\n",
    "\n",
    "# Start the game\n",
    "play_game()"
   ]
  },
  {
   "cell_type": "code",
   "execution_count": 3,
   "id": "70e336ad",
   "metadata": {},
   "outputs": [
    {
     "name": "stdout",
     "output_type": "stream",
     "text": [
      "Enter Rock, Paper, Scissors, or Exit to quit: rock\n",
      "Computer chose: paper\n",
      "Computer wins!\n",
      "Enter Rock, Paper, Scissors, or Exit to quit: exit\n",
      "Thanks for playing! Goodbye.\n"
     ]
    }
   ],
   "source": [
    "def get_user_choice():\n",
    "    while True:\n",
    "        user_input = input(\"Enter Rock, Paper, Scissors, or Exit to quit: \").lower()\n",
    "        if user_input in ['rock', 'paper', 'scissors', 'exit']:\n",
    "            return user_input\n",
    "        else:\n",
    "            print(\"Invalid input. Please try again.\")\n",
    "\n",
    "# Function to get computer's choice\n",
    "def get_computer_choice():\n",
    "    return random.choice(['rock', 'paper', 'scissors'])\n",
    "\n",
    "# Function to determine the winner\n",
    "def determine_winner(user_choice, computer_choice):\n",
    "    if user_choice == computer_choice:\n",
    "        return \"It's a tie!\"\n",
    "    elif (user_choice == 'rock' and computer_choice == 'scissors') or \\\n",
    "         (user_choice == 'scissors' and computer_choice == 'paper') or \\\n",
    "         (user_choice == 'paper' and computer_choice == 'rock'):\n",
    "        return \"You win!\"\n",
    "    else:\n",
    "        return \"Computer wins!\"\n",
    "\n",
    "# Main function to run the game\n",
    "def play_game():\n",
    "    while True:\n",
    "        user_choice = get_user_choice()\n",
    "        \n",
    "        if user_choice == 'exit':\n",
    "            print(\"Thanks for playing! Goodbye.\")\n",
    "            break  # Exit the game if the user inputs \"exit\"\n",
    "        \n",
    "        computer_choice = get_computer_choice()\n",
    "        print(f\"Computer chose: {computer_choice}\")\n",
    "        \n",
    "        result = determine_winner(user_choice, computer_choice)\n",
    "        print(result)\n",
    "\n",
    "# Start the game\n",
    "play_game()"
   ]
  },
  {
   "cell_type": "code",
   "execution_count": null,
   "id": "9e68cb2f",
   "metadata": {},
   "outputs": [],
   "source": []
  }
 ],
 "metadata": {
  "kernelspec": {
   "display_name": "Python 3 (ipykernel)",
   "language": "python",
   "name": "python3"
  },
  "language_info": {
   "codemirror_mode": {
    "name": "ipython",
    "version": 3
   },
   "file_extension": ".py",
   "mimetype": "text/x-python",
   "name": "python",
   "nbconvert_exporter": "python",
   "pygments_lexer": "ipython3",
   "version": "3.11.3"
  }
 },
 "nbformat": 4,
 "nbformat_minor": 5
}
